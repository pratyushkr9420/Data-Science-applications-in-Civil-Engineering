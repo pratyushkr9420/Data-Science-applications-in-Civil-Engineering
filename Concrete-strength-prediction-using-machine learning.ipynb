{
 "cells": [
  {
   "cell_type": "markdown",
   "metadata": {
    "papermill": {
     "duration": 0.015113,
     "end_time": "2020-11-29T23:49:14.173891",
     "exception": false,
     "start_time": "2020-11-29T23:49:14.158778",
     "status": "completed"
    },
    "tags": []
   },
   "source": [
    "## Overview:\n",
    "\n",
    "### Science Question: Is it possible to predict the strength of concrete based on its parameters?\n",
    "\n",
    "Significance: Strength of concrete is one of its fundamental and critical properties to predict performance. The tests that are currently present as a standrad for the indurstry are expensive, destructive and time consuming. Predictions from current tests are a roundabout representation of the actual concrete mixes used in the field. There is an impending need for a technqiue to predict strength non-destructively which could be cheaper and faster. The modelling of the behaviour of concrete is difficult becuase of mutliple factors affecting it, which includes mix proportion, admixtures, superplastcizers added, water/cement ratio and so on. The use of AI is being done as a way to model concrete behaviour in a more effecient way.\n",
    "\n",
    "**Dataset Source**:\n",
    "The dataset is from https://archive.ics.uci.edu/ml/datasets/Concrete+Compressive+Strength\n",
    "\n",
    "Models in use: Linear regression, Lasso method, K-nearest neighbor, Suppot-vector machine \n",
    "\n",
    "**Metric**: \n",
    "Spliting of the dataset would be done into train and test data. Train data would be used for training the model to predict strength of concrete. Test data would be used to evauluate and validate the performance of the models and choose the best model for strength prediction "
   ]
  },
  {
   "cell_type": "markdown",
   "metadata": {
    "papermill": {
     "duration": 0.012544,
     "end_time": "2020-11-29T23:49:14.199447",
     "exception": false,
     "start_time": "2020-11-29T23:49:14.186903",
     "status": "completed"
    },
    "tags": []
   },
   "source": [
    "Importing the requiste libraries"
   ]
  },
  {
   "cell_type": "code",
   "execution_count": 1,
   "metadata": {
    "_cell_guid": "b1076dfc-b9ad-4769-8c92-a6c4dae69d19",
    "_uuid": "8f2839f25d086af736a60e9eeb907d3b93b6e0e5",
    "execution": {
     "iopub.execute_input": "2020-11-29T23:49:14.237266Z",
     "iopub.status.busy": "2020-11-29T23:49:14.236602Z",
     "iopub.status.idle": "2020-11-29T23:49:16.094369Z",
     "shell.execute_reply": "2020-11-29T23:49:16.095172Z"
    },
    "papermill": {
     "duration": 1.883434,
     "end_time": "2020-11-29T23:49:16.095390",
     "exception": false,
     "start_time": "2020-11-29T23:49:14.211956",
     "status": "completed"
    },
    "tags": []
   },
   "outputs": [
    {
     "name": "stdout",
     "output_type": "stream",
     "text": [
      "/kaggle/input/cee-498-project3-forecast-strength-of-concrete/sample.csv\n",
      "/kaggle/input/cee-498-project3-forecast-strength-of-concrete/train.csv\n",
      "/kaggle/input/cee-498-project3-forecast-strength-of-concrete/test.csv\n"
     ]
    }
   ],
   "source": [
    "# This Python 3 environment comes with many helpful analytics libraries installed\n",
    "# It is defined by the kaggle/python Docker image: https://github.com/kaggle/docker-python\n",
    "# For example, here's several helpful packages to load\n",
    "\n",
    "import pandas as pd\n",
    "import matplotlib.pyplot as plt\n",
    "import matplotlib.cm as cm\n",
    "import seaborn as sns\n",
    "import numpy as np\n",
    "import itertools as it\n",
    "from sklearn.linear_model import LinearRegression  # Linear regression\n",
    "from sklearn.metrics import mean_squared_error        # Compute mean square error\n",
    "from sklearn.model_selection import train_test_split   # Splitting dataset into training and test data\n",
    "from sklearn.linear_model import Lasso              #Lasso Regression\n",
    "from sklearn.neighbors import KNeighborsRegressor   #KNN Neighbor\n",
    "from sklearn.svm import SVR          # SVM\n",
    "from sklearn import metrics\n",
    "%matplotlib inline\n",
    "import statsmodels.api as sm\n",
    "\n",
    "# Input data files are available in the read-only \"../input/\" directory\n",
    "# For example, running this (by clicking run or pressing Shift+Enter) will list all files under the input directory\n",
    "\n",
    "import os\n",
    "for dirname, _, filenames in os.walk('/kaggle/input'):\n",
    "    for filename in filenames:\n",
    "        print(os.path.join(dirname, filename))\n",
    "\n",
    "# You can write up to 20GB to the current directory (/kaggle/working/) that gets preserved as output when you create a version using \"Save & Run All\" \n",
    "# You can also write temporary files to /kaggle/temp/, but they won't be saved outside of the current session"
   ]
  },
  {
   "cell_type": "code",
   "execution_count": 2,
   "metadata": {
    "_cell_guid": "79c7e3d0-c299-4dcb-8224-4455121ee9b0",
    "_uuid": "d629ff2d2480ee46fbb7e2d37f6b5fab8052498a",
    "execution": {
     "iopub.execute_input": "2020-11-29T23:49:16.130078Z",
     "iopub.status.busy": "2020-11-29T23:49:16.129475Z",
     "iopub.status.idle": "2020-11-29T23:49:16.161515Z",
     "shell.execute_reply": "2020-11-29T23:49:16.160913Z"
    },
    "papermill": {
     "duration": 0.052201,
     "end_time": "2020-11-29T23:49:16.161623",
     "exception": false,
     "start_time": "2020-11-29T23:49:16.109422",
     "status": "completed"
    },
    "tags": []
   },
   "outputs": [],
   "source": [
    "\n",
    "train = pd.read_csv(\"/kaggle/input/cee-498-project3-forecast-strength-of-concrete/train.csv\")\n",
    "sample= pd.read_csv(\"/kaggle/input/cee-498-project3-forecast-strength-of-concrete/sample.csv\")\n",
    "test= pd.read_csv(\"/kaggle/input/cee-498-project3-forecast-strength-of-concrete/test.csv\")"
   ]
  },
  {
   "cell_type": "code",
   "execution_count": 3,
   "metadata": {
    "execution": {
     "iopub.execute_input": "2020-11-29T23:49:16.198411Z",
     "iopub.status.busy": "2020-11-29T23:49:16.197765Z",
     "iopub.status.idle": "2020-11-29T23:49:16.200709Z",
     "shell.execute_reply": "2020-11-29T23:49:16.201285Z"
    },
    "papermill": {
     "duration": 0.026077,
     "end_time": "2020-11-29T23:49:16.201456",
     "exception": false,
     "start_time": "2020-11-29T23:49:16.175379",
     "status": "completed"
    },
    "tags": []
   },
   "outputs": [],
   "source": [
    "del test['index']"
   ]
  },
  {
   "cell_type": "code",
   "execution_count": 4,
   "metadata": {
    "execution": {
     "iopub.execute_input": "2020-11-29T23:49:16.236564Z",
     "iopub.status.busy": "2020-11-29T23:49:16.235896Z",
     "iopub.status.idle": "2020-11-29T23:49:16.239570Z",
     "shell.execute_reply": "2020-11-29T23:49:16.239011Z"
    },
    "papermill": {
     "duration": 0.024415,
     "end_time": "2020-11-29T23:49:16.239672",
     "exception": false,
     "start_time": "2020-11-29T23:49:16.215257",
     "status": "completed"
    },
    "tags": []
   },
   "outputs": [],
   "source": [
    "test.rename(columns=dict(zip(test.columns, ['cement', 'slag', 'ash', 'water', 'superplastic', 'coarseagg',\n",
    "       'fineagg', 'age'])), inplace=True)\n",
    "train.rename(columns=dict(zip(train.columns, ['cement', 'slag', 'ash', 'water', 'superplastic', 'coarseagg',\n",
    "       'fineagg', 'age','strength'])), inplace=True)"
   ]
  },
  {
   "cell_type": "markdown",
   "metadata": {
    "papermill": {
     "duration": 0.01324,
     "end_time": "2020-11-29T23:49:16.266736",
     "exception": false,
     "start_time": "2020-11-29T23:49:16.253496",
     "status": "completed"
    },
    "tags": []
   },
   "source": [
    "Dividing the training dataset in order to evaluate the accuracy of various models"
   ]
  },
  {
   "cell_type": "code",
   "execution_count": 5,
   "metadata": {
    "execution": {
     "iopub.execute_input": "2020-11-29T23:49:16.309266Z",
     "iopub.status.busy": "2020-11-29T23:49:16.308668Z",
     "iopub.status.idle": "2020-11-29T23:49:16.312000Z",
     "shell.execute_reply": "2020-11-29T23:49:16.311409Z"
    },
    "papermill": {
     "duration": 0.031361,
     "end_time": "2020-11-29T23:49:16.312093",
     "exception": false,
     "start_time": "2020-11-29T23:49:16.280732",
     "status": "completed"
    },
    "tags": []
   },
   "outputs": [],
   "source": [
    "train,test = train_test_split(train,test_size =.3,random_state = 0)\n",
    "train_X = train[[x for x in train.columns if x not in [\"strength\"] + [\"age\"]]]\n",
    "train_Y = train[\"strength\"]\n",
    "test_X  = test[[x for x in test.columns if x not in [\"strength\"] + [\"age\"]]]\n",
    "test_Y  = test[\"strength\"]"
   ]
  },
  {
   "cell_type": "markdown",
   "metadata": {
    "papermill": {
     "duration": 0.013239,
     "end_time": "2020-11-29T23:49:16.338918",
     "exception": false,
     "start_time": "2020-11-29T23:49:16.325679",
     "status": "completed"
    },
    "tags": []
   },
   "source": [
    "The use of Linear regression method is used in order to train the model and make predictions"
   ]
  },
  {
   "cell_type": "code",
   "execution_count": 6,
   "metadata": {
    "execution": {
     "iopub.execute_input": "2020-11-29T23:49:16.456611Z",
     "iopub.status.busy": "2020-11-29T23:49:16.455952Z",
     "iopub.status.idle": "2020-11-29T23:49:16.472830Z",
     "shell.execute_reply": "2020-11-29T23:49:16.471890Z"
    },
    "papermill": {
     "duration": 0.12045,
     "end_time": "2020-11-29T23:49:16.472934",
     "exception": false,
     "start_time": "2020-11-29T23:49:16.352484",
     "status": "completed"
    },
    "tags": []
   },
   "outputs": [
    {
     "name": "stdout",
     "output_type": "stream",
     "text": [
      "Accuracy of model is 0.3813073939716336\n",
      "Mean Absolute Error: 9.805710408418335\n",
      "Mean Squared Error: 158.51427881047465\n",
      "Root Mean Squared Error: 12.59024538325106\n"
     ]
    }
   ],
   "source": [
    "#Model 1= Multiple linear regression\n",
    "# fit a model\n",
    "lm = LinearRegression()\n",
    "model = lm.fit(train_X, train_Y)\n",
    "predictions = lm.predict(test_X)\n",
    "m1=model.score(test_X, test_Y)\n",
    "RMSE1=np.sqrt(metrics.mean_squared_error(test_Y, predictions))\n",
    "print('Accuracy of model is', model.score(test_X, test_Y))\n",
    "print('Mean Absolute Error:', metrics.mean_absolute_error(test_Y, predictions))  \n",
    "print('Mean Squared Error:', metrics.mean_squared_error(test_Y, predictions))  \n",
    "print('Root Mean Squared Error:', np.sqrt(metrics.mean_squared_error(test_Y, predictions)))"
   ]
  },
  {
   "cell_type": "code",
   "execution_count": 7,
   "metadata": {
    "execution": {
     "iopub.execute_input": "2020-11-29T23:49:16.512247Z",
     "iopub.status.busy": "2020-11-29T23:49:16.511561Z",
     "iopub.status.idle": "2020-11-29T23:49:16.978893Z",
     "shell.execute_reply": "2020-11-29T23:49:16.978353Z"
    },
    "papermill": {
     "duration": 0.491649,
     "end_time": "2020-11-29T23:49:16.978993",
     "exception": false,
     "start_time": "2020-11-29T23:49:16.487344",
     "status": "completed"
    },
    "tags": []
   },
   "outputs": [
    {
     "data": {
      "image/png": "[encoded data removed]",
      "text/plain": [
       "<Figure size 504x504 with 1 Axes>"
      ]
     },
     "metadata": {
      "needs_background": "light"
     },
     "output_type": "display_data"
    }
   ],
   "source": [
    "#Plot of true value vs. predicted values\n",
    "dat = pd.DataFrame({'Actual': test_Y, 'Predicted': predictions})\n",
    "dat1=dat.head(25) #just a sample which shows top 25 columns\n",
    "dat1.plot(kind='bar',figsize=(7,7))\n",
    "plt.grid(which='major', linestyle='-', linewidth='0.5', color='green')\n",
    "plt.grid(which='minor', linestyle=':', linewidth='0.5', color='black')\n",
    "plt.show()"
   ]
  },
  {
   "cell_type": "markdown",
   "metadata": {
    "papermill": {
     "duration": 0.016436,
     "end_time": "2020-11-29T23:49:17.015367",
     "exception": false,
     "start_time": "2020-11-29T23:49:16.998931",
     "status": "completed"
    },
    "tags": []
   },
   "source": [
    "The use of Lasso method is used in order to train the model and make predictions"
   ]
  },
  {
   "cell_type": "code",
   "execution_count": 8,
   "metadata": {
    "execution": {
     "iopub.execute_input": "2020-11-29T23:49:17.060109Z",
     "iopub.status.busy": "2020-11-29T23:49:17.058939Z",
     "iopub.status.idle": "2020-11-29T23:49:17.072908Z",
     "shell.execute_reply": "2020-11-29T23:49:17.073556Z"
    },
    "papermill": {
     "duration": 0.043041,
     "end_time": "2020-11-29T23:49:17.073718",
     "exception": false,
     "start_time": "2020-11-29T23:49:17.030677",
     "status": "completed"
    },
    "tags": []
   },
   "outputs": [
    {
     "name": "stdout",
     "output_type": "stream",
     "text": [
      "Accuracy of model is 0.3812677175541993\n",
      "Mean Absolute Error: 9.804711560845934\n",
      "Mean Squared Error: 158.5244442442201\n",
      "Root Mean Squared Error: 12.590649079543917\n"
     ]
    }
   ],
   "source": [
    "# Model 2: LASSO Model\n",
    "las = Lasso(alpha=0.1)\n",
    "model2 = las.fit(train_X, train_Y)\n",
    "predictions2 = las.predict(test_X)\n",
    "m12=model2.score(test_X, test_Y)\n",
    "RMSE12=np.sqrt(metrics.mean_squared_error(test_Y, predictions2))\n",
    "print('Accuracy of model is', model2.score(test_X, test_Y))\n",
    "print('Mean Absolute Error:', metrics.mean_absolute_error(test_Y, predictions2))  \n",
    "print('Mean Squared Error:', metrics.mean_squared_error(test_Y, predictions2))  \n",
    "print('Root Mean Squared Error:', np.sqrt(metrics.mean_squared_error(test_Y, predictions2)))"
   ]
  },
  {
   "cell_type": "code",
   "execution_count": 9,
   "metadata": {
    "execution": {
     "iopub.execute_input": "2020-11-29T23:49:17.137732Z",
     "iopub.status.busy": "2020-11-29T23:49:17.136559Z",
     "iopub.status.idle": "2020-11-29T23:49:17.463602Z",
     "shell.execute_reply": "2020-11-29T23:49:17.462969Z"
    },
    "papermill": {
     "duration": 0.366553,
     "end_time": "2020-11-29T23:49:17.463703",
     "exception": false,
     "start_time": "2020-11-29T23:49:17.097150",
     "status": "completed"
    },
    "tags": []
   },
   "outputs": [
    {
     "data": {
      "image/png": "[encoded data removed]",
      "text/plain": [
       "<Figure size 504x504 with 1 Axes>"
      ]
     },
     "metadata": {
      "needs_background": "light"
     },
     "output_type": "display_data"
    }
   ],
   "source": [
    "#Plot of true value vs. predicted values\n",
    "dat = pd.DataFrame({'Actual': test_Y, 'Predicted': predictions2})\n",
    "dat1=dat.head(25) #just a sample which shows top 25 columns\n",
    "dat1.plot(kind='bar',figsize=(7,7))\n",
    "plt.grid(which='major', linestyle='-', linewidth='0.5', color='green')\n",
    "plt.grid(which='minor', linestyle=':', linewidth='0.5', color='black')\n",
    "plt.show()\n"
   ]
  },
  {
   "cell_type": "markdown",
   "metadata": {
    "papermill": {
     "duration": 0.016364,
     "end_time": "2020-11-29T23:49:17.496862",
     "exception": false,
     "start_time": "2020-11-29T23:49:17.480498",
     "status": "completed"
    },
    "tags": []
   },
   "source": [
    "The use of K-nearest neighbor method in order to train the model and make predictions"
   ]
  },
  {
   "cell_type": "code",
   "execution_count": 10,
   "metadata": {
    "execution": {
     "iopub.execute_input": "2020-11-29T23:49:17.544187Z",
     "iopub.status.busy": "2020-11-29T23:49:17.543569Z",
     "iopub.status.idle": "2020-11-29T23:49:17.559623Z",
     "shell.execute_reply": "2020-11-29T23:49:17.559063Z"
    },
    "papermill": {
     "duration": 0.045926,
     "end_time": "2020-11-29T23:49:17.559726",
     "exception": false,
     "start_time": "2020-11-29T23:49:17.513800",
     "status": "completed"
    },
    "tags": []
   },
   "outputs": [
    {
     "name": "stdout",
     "output_type": "stream",
     "text": [
      "Accuracy of model is 0.37430331648490267\n",
      "Mean Absolute Error: 9.70159848386056\n",
      "Mean Squared Error: 160.30878270582414\n",
      "Root Mean Squared Error: 12.661310465580732\n"
     ]
    }
   ],
   "source": [
    "# Model 3: KNN Neighbor\n",
    "knn = KNeighborsRegressor()\n",
    "model3=knn.fit(train_X,train_Y)\n",
    "predictions3 = knn.predict(test_X)\n",
    "m13=model3.score(test_X, test_Y)\n",
    "RMSE13=np.sqrt(metrics.mean_squared_error(test_Y, predictions3))\n",
    "print('Accuracy of model is', model3.score(test_X, test_Y))\n",
    "print('Mean Absolute Error:', metrics.mean_absolute_error(test_Y, predictions3))  \n",
    "print('Mean Squared Error:', metrics.mean_squared_error(test_Y, predictions3))  \n",
    "print('Root Mean Squared Error:', np.sqrt(metrics.mean_squared_error(test_Y, predictions3)))\n"
   ]
  },
  {
   "cell_type": "code",
   "execution_count": 11,
   "metadata": {
    "execution": {
     "iopub.execute_input": "2020-11-29T23:49:17.614766Z",
     "iopub.status.busy": "2020-11-29T23:49:17.611281Z",
     "iopub.status.idle": "2020-11-29T23:49:17.935823Z",
     "shell.execute_reply": "2020-11-29T23:49:17.935223Z"
    },
    "papermill": {
     "duration": 0.359215,
     "end_time": "2020-11-29T23:49:17.935932",
     "exception": false,
     "start_time": "2020-11-29T23:49:17.576717",
     "status": "completed"
    },
    "tags": []
   },
   "outputs": [
    {
     "data": {
      "image/png": "[encoded data removed]",
      "text/plain": [
       "<Figure size 504x504 with 1 Axes>"
      ]
     },
     "metadata": {
      "needs_background": "light"
     },
     "output_type": "display_data"
    }
   ],
   "source": [
    "dat = pd.DataFrame({'Actual': test_Y, 'Predicted': predictions3})\n",
    "dat1=dat.head(25) #just a sample which shows top 25 columns\n",
    "dat1.plot(kind='bar',figsize=(7,7))\n",
    "plt.grid(which='major', linestyle='-', linewidth='0.5', color='green')\n",
    "plt.grid(which='minor', linestyle=':', linewidth='0.5', color='black')\n",
    "plt.show()"
   ]
  },
  {
   "cell_type": "markdown",
   "metadata": {
    "papermill": {
     "duration": 0.018156,
     "end_time": "2020-11-29T23:49:17.972642",
     "exception": false,
     "start_time": "2020-11-29T23:49:17.954486",
     "status": "completed"
    },
    "tags": []
   },
   "source": [
    "The use of Support vector machines method in order to train the model and make predictions"
   ]
  },
  {
   "cell_type": "code",
   "execution_count": 12,
   "metadata": {
    "execution": {
     "iopub.execute_input": "2020-11-29T23:49:18.020513Z",
     "iopub.status.busy": "2020-11-29T23:49:18.019448Z",
     "iopub.status.idle": "2020-11-29T23:49:21.928700Z",
     "shell.execute_reply": "2020-11-29T23:49:21.928165Z"
    },
    "papermill": {
     "duration": 3.936699,
     "end_time": "2020-11-29T23:49:21.928803",
     "exception": false,
     "start_time": "2020-11-29T23:49:17.992104",
     "status": "completed"
    },
    "tags": []
   },
   "outputs": [
    {
     "name": "stdout",
     "output_type": "stream",
     "text": [
      "Accuracy of model is 0.3323256807132362\n",
      "Mean Absolute Error: 10.021878889868468\n",
      "Mean Squared Error: 171.0638080539199\n",
      "Root Mean Squared Error: 13.079136364986791\n"
     ]
    }
   ],
   "source": [
    "# Model 4: Support-vector machines\n",
    "svm= SVR(kernel='linear')\n",
    "model4=svm.fit(train_X, train_Y)\n",
    "predictions4 = svm.predict(test_X)\n",
    "m4=model4.score(test_X, test_Y)\n",
    "RMSE4=np.sqrt(metrics.mean_squared_error(test_Y, predictions4))\n",
    "print('Accuracy of model is', model4.score(test_X, test_Y))\n",
    "print('Mean Absolute Error:', metrics.mean_absolute_error(test_Y, predictions4))  \n",
    "print('Mean Squared Error:', metrics.mean_squared_error(test_Y, predictions4))  \n",
    "print('Root Mean Squared Error:', np.sqrt(metrics.mean_squared_error(test_Y, predictions4)))"
   ]
  },
  {
   "cell_type": "code",
   "execution_count": 13,
   "metadata": {
    "execution": {
     "iopub.execute_input": "2020-11-29T23:49:21.978675Z",
     "iopub.status.busy": "2020-11-29T23:49:21.973514Z",
     "iopub.status.idle": "2020-11-29T23:49:22.399091Z",
     "shell.execute_reply": "2020-11-29T23:49:22.398592Z"
    },
    "papermill": {
     "duration": 0.452186,
     "end_time": "2020-11-29T23:49:22.399198",
     "exception": false,
     "start_time": "2020-11-29T23:49:21.947012",
     "status": "completed"
    },
    "tags": []
   },
   "outputs": [
    {
     "data": {
      "image/png": "[encoded data removed]",
      "text/plain": [
       "<Figure size 504x504 with 1 Axes>"
      ]
     },
     "metadata": {
      "needs_background": "light"
     },
     "output_type": "display_data"
    }
   ],
   "source": [
    "dat = pd.DataFrame({'Actual': test_Y, 'Predicted': predictions4})\n",
    "dat1=dat.head(25) #just a sample which shows top 25 columns\n",
    "dat1.plot(kind='bar',figsize=(7,7))\n",
    "plt.grid(which='major', linestyle='-', linewidth='0.5', color='green')\n",
    "plt.grid(which='minor', linestyle=':', linewidth='0.5', color='black')\n",
    "plt.show()"
   ]
  },
  {
   "cell_type": "markdown",
   "metadata": {
    "papermill": {
     "duration": 0.019338,
     "end_time": "2020-11-29T23:49:22.438703",
     "exception": false,
     "start_time": "2020-11-29T23:49:22.419365",
     "status": "completed"
    },
    "tags": []
   },
   "source": [
    " Conclusions:\n",
    " \n",
    "  1:The use of Lasso model was better than the other 3 methods\n",
    "  \n",
    "  2:The root mean square error is the lowest for the Lasso model\n",
    "  \n",
    "  3:The Lasso model would be better at predicting teh strength of concrete\n"
   ]
  }
 ],
 "metadata": {
  "kernelspec": {
   "display_name": "Python 3",
   "language": "python",
   "name": "python3"
  },
  "language_info": {
   "codemirror_mode": {
    "name": "ipython",
    "version": 3
   },
   "file_extension": ".py",
   "mimetype": "text/x-python",
   "name": "python",
   "nbconvert_exporter": "python",
   "pygments_lexer": "ipython3",
   "version": "3.8.8"
  },
  "papermill": {
   "duration": 12.824841,
   "end_time": "2020-11-29T23:49:22.565792",
   "environment_variables": {},
   "exception": null,
   "input_path": "__notebook__.ipynb",
   "output_path": "__notebook__.ipynb",
   "parameters": {},
   "start_time": "2020-11-29T23:49:09.740951",
   "version": "2.1.0"
  }
 },
 "nbformat": 4,
 "nbformat_minor": 4
}
